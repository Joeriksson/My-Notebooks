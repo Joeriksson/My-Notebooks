{
 "cells": [
  {
   "cell_type": "markdown",
   "metadata": {
    "collapsed": false
   },
   "source": [
    "# Exercise creating a circle class"
   ]
  },
  {
   "cell_type": "code",
   "execution_count": 1,
   "metadata": {
    "collapsed": false
   },
   "outputs": [
   ],
   "source": [
    "import math\n",
    "PI = math.pi\n",
    "\n",
    "class Circle:\n",
    "    def __init__(self, radius: float = 1):\n",
    "        self._radius = radius\n",
    "        self._diameter = radius * 2\n",
    "        self._area = PI * radius**2\n",
    "\n",
    "    def __str__(self):\n",
    "        return f'Circle(radius: {self.radius}, diameter: {self.diameter}, area: {self.area})'\n",
    "    \n",
    "    @property\n",
    "    def radius(self):\n",
    "        return self._radius\n",
    "\n",
    "    @radius.setter\n",
    "    def radius(self, value):\n",
    "        if value < 0:\n",
    "            raise ValueError(\"Cannot be less than zero\")\n",
    "        self._diameter = value * 2\n",
    "        self._area = PI * value**2\n",
    "        self._radius = value\n",
    "\n",
    "    @property\n",
    "    def diameter(self):\n",
    "        return self._diameter\n",
    "\n",
    "    @diameter.setter\n",
    "    def diameter(self, value):\n",
    "        self._diameter = value\n",
    "        self._area = (PI * self._diameter**2)/4\n",
    "        self._radius = self._diameter / 2\n",
    "\n",
    "    @property\n",
    "    def area(self):\n",
    "        return self._area\n",
    "\n",
    "    @area.setter\n",
    "    def area(self, value):\n",
    "        self._area = value\n"
   ]
  },
  {
   "cell_type": "code",
   "execution_count": 2,
   "metadata": {
    "collapsed": false
   },
   "outputs": [
    {
     "name": "stdout",
     "output_type": "stream",
     "text": [
      "Circle(radius: 5, diameter: 10, area: 78.53981633974483)\n",
      "Circle(radius: 3, diameter: 6, area: 28.274333882308138)\n"
     ]
    }
   ],
   "source": [
    "c=Circle(5)\n",
    "print(c)\n",
    "c.radius = 3\n",
    "print(c)"
   ]
  },
  {
   "cell_type": "code",
   "execution_count": 0,
   "metadata": {
    "collapsed": false
   },
   "outputs": [
   ],
   "source": [
   ]
  }
 ],
 "metadata": {
  "kernelspec": {
   "display_name": "Python 3 (Ubuntu Linux)",
   "language": "python",
   "metadata": {
    "cocalc": {
     "description": "Python 3 programming language",
     "priority": 100,
     "url": "https://www.python.org/"
    }
   },
   "name": "python3"
  },
  "language_info": {
   "codemirror_mode": {
    "name": "ipython",
    "version": 3
   },
   "file_extension": ".py",
   "mimetype": "text/x-python",
   "name": "python",
   "nbconvert_exporter": "python",
   "pygments_lexer": "ipython3",
   "version": "3.6.7"
  }
 },
 "nbformat": 4,
 "nbformat_minor": 0
}